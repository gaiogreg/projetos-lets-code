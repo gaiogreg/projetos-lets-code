{
 "cells": [
  {
   "cell_type": "code",
   "execution_count": null,
   "metadata": {},
   "outputs": [],
   "source": [
    "def montar_banda(dicionario_musicos, genero: str, instrumentos) -> dict:\n",
    "    \n",
    "    lista_musicos = [(valores[0],instrumento) for instrumento in instrumentos for valores in dicionario_musicos.items() if \n",
    "    genero in valores[1][1] and instrumento in valores[1][2]]\n",
    "\n",
    "    lista_musicos = set(lista_musicos)\n",
    "\n",
    "    #valores[0] == email\n",
    "    #valores[1][1] == generos\n",
    "    #valores[1][2] == instrumentos\n",
    "\n",
    "    dict_bandas = {}\n",
    "\n",
    "    for item in lista_musicos:\n",
    "\n",
    "        instrumento = item[1]\n",
    "        email = item[0]\n",
    "        \n",
    "        if instrumento not in dict_bandas.keys():\n",
    "            dict_bandas[instrumento] = email\n",
    "\n",
    "        elif type(dict_bandas[instrumento]) == str:\n",
    "            lista_emails = [dict_bandas[instrumento]]\n",
    "            lista_emails.append(email)\n",
    "            dict_bandas[instrumento] = lista_emails\n",
    "            \n",
    "        else:\n",
    "            lista_emails.append(email)\n",
    "            dict_bandas[instrumento] = lista_emails\n",
    "\n",
    "    return gera_combinacoes(dict_bandas, instrumentos, combinacoes=[])    \n",
    "\n",
    "def gera_combinacoes(dic_musicos, instrumentos, banda=[], combinacoes=[]):\n",
    "    \n",
    "    instrumento = instrumentos[0]\n",
    "    musico_por_instrumento = dic_musicos[instrumento]  \n",
    "    if type(musico_por_instrumento) == str:\n",
    "        musico_por_instrumento = [musico_por_instrumento]\n",
    "    i = 0\n",
    "\n",
    "    while i in range(len(musico_por_instrumento)):\n",
    "        if [musico_por_instrumento[i], instrumento] in banda:\n",
    "            i += 1\n",
    "            continue        \n",
    "        i, booleano = evitar_musicos_duplicados(banda, musico_por_instrumento, i, instrumento)        \n",
    "        if len(instrumentos) > 1 and booleano:\n",
    "            combinacoes = gera_combinacoes(dic_musicos,instrumentos[1:], banda, combinacoes)\n",
    "        elif booleano:\n",
    "            combinacoes.append(banda.copy())\n",
    "        banda.pop()\n",
    "        i += 1\n",
    "\n",
    "    dic_musicos.update({instrumento: musico_por_instrumento})\n",
    "    return combinacoes\n",
    "\n",
    "def evitar_musicos_duplicados(banda, musico_por_instrumento, contador, instrumento):\n",
    "\n",
    "    banda.append([musico_por_instrumento[contador],instrumento])\n",
    "    for musico_instrumento in banda[:-1]:\n",
    "            if musico_por_instrumento[contador] in musico_instrumento and len(banda) > 1:\n",
    "                banda.pop() #removendo duplicados\n",
    "                try:\n",
    "                    banda.append([musico_por_instrumento[contador+1],instrumento]) #appending o seguinte termo\n",
    "                    contador += 1\n",
    "                except:\n",
    "                    banda.append([musico_por_instrumento[contador],instrumento])\n",
    "                    return contador, False\n",
    "\n",
    "    return contador, True"
   ]
  },
  {
   "cell_type": "code",
   "execution_count": 52,
   "metadata": {},
   "outputs": [
    {
     "name": "stdout",
     "output_type": "stream",
     "text": [
      "(['Q', 'W'], ['E', 'R'], ['T', 'Y'])\n",
      "(['Q', 'W'], ['T', 'Y'], ['E', 'R'])\n",
      "(['E', 'R'], ['Q', 'W'], ['T', 'Y'])\n",
      "(['E', 'R'], ['T', 'Y'], ['Q', 'W'])\n",
      "(['T', 'Y'], ['Q', 'W'], ['E', 'R'])\n",
      "(['T', 'Y'], ['E', 'R'], ['Q', 'W'])\n"
     ]
    }
   ],
   "source": [
    "dic_musicos = {'a':['Q','W'],'b':['E','R'],'c':['T','Y']}\n",
    "instrumentos =['a','b','c']\n",
    "from itertools import permutations\n",
    "\n",
    "# for musicos_instrumento in dic_musicos.values():\n",
    "#     for musico in musicos_instrumento:\n",
    "for subset in permutations(dic_musicos.values(), 3):\n",
    "    print(subset)\n",
    "# gera_combinacoes(dic_musicos, instrumentos, combinacoes=[])"
   ]
  },
  {
   "cell_type": "code",
   "execution_count": 32,
   "metadata": {},
   "outputs": [
    {
     "name": "stdout",
     "output_type": "stream",
     "text": [
      "Baixo\n",
      "Baixo\n",
      "Baixo\n",
      "Baixo\n",
      "Baixo\n"
     ]
    },
    {
     "data": {
      "text/plain": [
       "{(('marcos@blabla.com', 'Guitarra'), ('miguel@yahoo.com', 'Baixo')),\n",
       " (('marcos@blabla.com', 'Guitarra'), ('pedro@gmail.com', 'Baixo')),\n",
       " (('miguel@yahoo.com', 'Baixo'), ('miguel@yahoo.com.br', 'Guitarra')),\n",
       " (('miguel@yahoo.com', 'Baixo'), ('pedro@gmail.com', 'Guitarra')),\n",
       " (('miguel@yahoo.com.br', 'Guitarra'), ('miguel@yahoo.com', 'Baixo')),\n",
       " (('miguel@yahoo.com.br', 'Guitarra'), ('pedro@gmail.com', 'Guitarra')),\n",
       " (('pedro@gmail.com', 'Baixo'), ('miguel@yahoo.com', 'Baixo')),\n",
       " (('pedro@gmail.com', 'Baixo'), ('pedro@gmail.com', 'Guitarra')),\n",
       " (('pedro@gmail.com', 'Guitarra'), ('miguel@yahoo.com', 'Baixo')),\n",
       " (('pedro@gmail.com', 'Guitarra'), ('pedro@gmail.com', 'Baixo'))}"
      ]
     },
     "execution_count": 32,
     "metadata": {},
     "output_type": "execute_result"
    }
   ],
   "source": [
    "lista_musicos = {('miguel@yahoo.com', 'Baixo'), ('marcos@blabla.com', 'Guitarra'), ('miguel@yahoo.com.br', 'Guitarra'), ('pedro@gmail.com', 'Guitarra'), ('pedro@gmail.com', 'Baixo')}\n",
    "from itertools import permutations\n",
    "lista_total = []\n",
    "for subset in permutations(lista_musicos, 2):\n",
    "    lista_total.append(subset)\n",
    "lista_total = list(dict.fromkeys(lista_total))\n",
    "\n",
    "for banda in lista_total:\n",
    "    for musico in banda:\n",
    "        if musico[1] != 'Guitarra':\n",
    "            print(musico[1])\n",
    "            lista_total.remove(banda)\n",
    "            break\n",
    "        if musico[1] in banda[1]:\n",
    "            lista_total.remove(banda)\n",
    "            break\n",
    "        \n",
    "            # print(1)\n",
    "            # lista_total.remove(banda)\n",
    "            \n",
    "\n",
    "set(lista_total)\n",
    "\n"
   ]
  }
 ],
 "metadata": {
  "kernelspec": {
   "display_name": "Python 3.9.7 ('base')",
   "language": "python",
   "name": "python3"
  },
  "language_info": {
   "codemirror_mode": {
    "name": "ipython",
    "version": 3
   },
   "file_extension": ".py",
   "mimetype": "text/x-python",
   "name": "python",
   "nbconvert_exporter": "python",
   "pygments_lexer": "ipython3",
   "version": "3.9.7"
  },
  "orig_nbformat": 4,
  "vscode": {
   "interpreter": {
    "hash": "ad2bdc8ecc057115af97d19610ffacc2b4e99fae6737bb82f5d7fb13d2f2c186"
   }
  }
 },
 "nbformat": 4,
 "nbformat_minor": 2
}
