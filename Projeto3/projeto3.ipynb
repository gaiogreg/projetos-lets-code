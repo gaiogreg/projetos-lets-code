{
 "cells": [
  {
   "cell_type": "markdown",
   "metadata": {},
   "source": [
    "# Projeto 3 - World Happiness Report"
   ]
  },
  {
   "cell_type": "code",
   "execution_count": 2,
   "metadata": {},
   "outputs": [],
   "source": [
    "import numpy as np\n",
    "import pandas as pd\n",
    "import statistics as sts"
   ]
  },
  {
   "cell_type": "code",
   "execution_count": 47,
   "metadata": {},
   "outputs": [],
   "source": [
    "db_2015 = pd.read_csv('2015.csv',delimiter=',')\n",
    "db_2016 = pd.read_csv('2016.csv',delimiter=',')\n",
    "db_2017 = pd.read_csv('2017.csv',delimiter=',')\n",
    "db_2018 = pd.read_csv('2018.csv',delimiter=',')\n",
    "db_2019 = pd.read_csv('2019.csv',delimiter=',')"
   ]
  },
  {
   "cell_type": "markdown",
   "metadata": {},
   "source": [
    "#### 1. Top 10 de cada ano de 2015-2019"
   ]
  },
  {
   "cell_type": "code",
   "execution_count": 4,
   "metadata": {},
   "outputs": [
    {
     "data": {
      "text/html": [
       "<div>\n",
       "<style scoped>\n",
       "    .dataframe tbody tr th:only-of-type {\n",
       "        vertical-align: middle;\n",
       "    }\n",
       "\n",
       "    .dataframe tbody tr th {\n",
       "        vertical-align: top;\n",
       "    }\n",
       "\n",
       "    .dataframe thead th {\n",
       "        text-align: right;\n",
       "    }\n",
       "</style>\n",
       "<table border=\"1\" class=\"dataframe\">\n",
       "  <thead>\n",
       "    <tr style=\"text-align: right;\">\n",
       "      <th></th>\n",
       "      <th>Countries 2015</th>\n",
       "      <th>Countries 2016</th>\n",
       "      <th>Countries 2017</th>\n",
       "      <th>Countries 2018</th>\n",
       "      <th>Countries 2019</th>\n",
       "    </tr>\n",
       "  </thead>\n",
       "  <tbody>\n",
       "    <tr>\n",
       "      <th>0</th>\n",
       "      <td>Switzerland</td>\n",
       "      <td>Denmark</td>\n",
       "      <td>Norway</td>\n",
       "      <td>Finland</td>\n",
       "      <td>Finland</td>\n",
       "    </tr>\n",
       "    <tr>\n",
       "      <th>1</th>\n",
       "      <td>Iceland</td>\n",
       "      <td>Switzerland</td>\n",
       "      <td>Denmark</td>\n",
       "      <td>Norway</td>\n",
       "      <td>Denmark</td>\n",
       "    </tr>\n",
       "    <tr>\n",
       "      <th>2</th>\n",
       "      <td>Denmark</td>\n",
       "      <td>Iceland</td>\n",
       "      <td>Iceland</td>\n",
       "      <td>Denmark</td>\n",
       "      <td>Norway</td>\n",
       "    </tr>\n",
       "    <tr>\n",
       "      <th>3</th>\n",
       "      <td>Norway</td>\n",
       "      <td>Norway</td>\n",
       "      <td>Switzerland</td>\n",
       "      <td>Iceland</td>\n",
       "      <td>Iceland</td>\n",
       "    </tr>\n",
       "    <tr>\n",
       "      <th>4</th>\n",
       "      <td>Canada</td>\n",
       "      <td>Finland</td>\n",
       "      <td>Finland</td>\n",
       "      <td>Switzerland</td>\n",
       "      <td>Netherlands</td>\n",
       "    </tr>\n",
       "    <tr>\n",
       "      <th>5</th>\n",
       "      <td>Finland</td>\n",
       "      <td>Canada</td>\n",
       "      <td>Netherlands</td>\n",
       "      <td>Netherlands</td>\n",
       "      <td>Switzerland</td>\n",
       "    </tr>\n",
       "    <tr>\n",
       "      <th>6</th>\n",
       "      <td>Netherlands</td>\n",
       "      <td>Netherlands</td>\n",
       "      <td>Canada</td>\n",
       "      <td>Canada</td>\n",
       "      <td>Sweden</td>\n",
       "    </tr>\n",
       "    <tr>\n",
       "      <th>7</th>\n",
       "      <td>Sweden</td>\n",
       "      <td>New Zealand</td>\n",
       "      <td>New Zealand</td>\n",
       "      <td>New Zealand</td>\n",
       "      <td>New Zealand</td>\n",
       "    </tr>\n",
       "    <tr>\n",
       "      <th>8</th>\n",
       "      <td>New Zealand</td>\n",
       "      <td>Australia</td>\n",
       "      <td>Sweden</td>\n",
       "      <td>Sweden</td>\n",
       "      <td>Canada</td>\n",
       "    </tr>\n",
       "    <tr>\n",
       "      <th>9</th>\n",
       "      <td>Australia</td>\n",
       "      <td>Sweden</td>\n",
       "      <td>Australia</td>\n",
       "      <td>Australia</td>\n",
       "      <td>Austria</td>\n",
       "    </tr>\n",
       "  </tbody>\n",
       "</table>\n",
       "</div>"
      ],
      "text/plain": [
       "  Countries 2015 Countries 2016 Countries 2017 Countries 2018 Countries 2019\n",
       "0    Switzerland        Denmark         Norway        Finland        Finland\n",
       "1        Iceland    Switzerland        Denmark         Norway        Denmark\n",
       "2        Denmark        Iceland        Iceland        Denmark         Norway\n",
       "3         Norway         Norway    Switzerland        Iceland        Iceland\n",
       "4         Canada        Finland        Finland    Switzerland    Netherlands\n",
       "5        Finland         Canada    Netherlands    Netherlands    Switzerland\n",
       "6    Netherlands    Netherlands         Canada         Canada         Sweden\n",
       "7         Sweden    New Zealand    New Zealand    New Zealand    New Zealand\n",
       "8    New Zealand      Australia         Sweden         Sweden         Canada\n",
       "9      Australia         Sweden      Australia      Australia        Austria"
      ]
     },
     "execution_count": 4,
     "metadata": {},
     "output_type": "execute_result"
    }
   ],
   "source": [
    "db_todos_anos_pais = pd.DataFrame({'Countries 2015': db_2015['Country'],'Countries 2016':db_2016['Country'],'Countries 2017':db_2017['Country'],\n",
    "'Countries 2018':db_2018['Country or region'],'Countries 2019':db_2019['Country or region']})\n",
    "db_top_10_todos_anos = db_todos_anos_pais.head(10)\n",
    "db_top_10_todos_anos\n",
    "# os 10 primeiros nao alteram ao longo dos 5 anos\n",
    "# Dinamarca sempre no top 3\n",
    "# maioria dos paises sao Europeus (mais Australia, Canada, e Nova Zelandia)"
   ]
  },
  {
   "cell_type": "markdown",
   "metadata": {},
   "source": [
    "#### 2. Considerando a média de todas as variáveis, quais foram as 3 variáveis que mais mudaram ano a ano "
   ]
  },
  {
   "cell_type": "code",
   "execution_count": 5,
   "metadata": {},
   "outputs": [
    {
     "name": "stderr",
     "output_type": "stream",
     "text": [
      "C:\\Users\\grego\\AppData\\Local\\Temp\\ipykernel_24112\\439643841.py:1: FutureWarning: Dropping of nuisance columns in DataFrame reductions (with 'numeric_only=None') is deprecated; in a future version this will raise TypeError.  Select only valid columns before calling the reduction.\n",
      "  db_2015_medias = pd.Series(db_2015.mean(axis=0)) #ok\n",
      "C:\\Users\\grego\\AppData\\Local\\Temp\\ipykernel_24112\\439643841.py:2: FutureWarning: Dropping of nuisance columns in DataFrame reductions (with 'numeric_only=None') is deprecated; in a future version this will raise TypeError.  Select only valid columns before calling the reduction.\n",
      "  db_2016_medias = pd.Series(db_2016.mean(axis=0)) #ok\n",
      "C:\\Users\\grego\\AppData\\Local\\Temp\\ipykernel_24112\\439643841.py:3: FutureWarning: Dropping of nuisance columns in DataFrame reductions (with 'numeric_only=None') is deprecated; in a future version this will raise TypeError.  Select only valid columns before calling the reduction.\n",
      "  db_2017_medias = pd.Series(db_2017.mean(axis=0)) #ok\n",
      "C:\\Users\\grego\\AppData\\Local\\Temp\\ipykernel_24112\\439643841.py:4: FutureWarning: Dropping of nuisance columns in DataFrame reductions (with 'numeric_only=None') is deprecated; in a future version this will raise TypeError.  Select only valid columns before calling the reduction.\n",
      "  db_2018_medias = pd.Series(db_2018.mean(axis=0)) #ok\n",
      "C:\\Users\\grego\\AppData\\Local\\Temp\\ipykernel_24112\\439643841.py:5: FutureWarning: Dropping of nuisance columns in DataFrame reductions (with 'numeric_only=None') is deprecated; in a future version this will raise TypeError.  Select only valid columns before calling the reduction.\n",
      "  db_2019_medias = pd.Series(db_2019.mean(axis=0)) #ok\n"
     ]
    }
   ],
   "source": [
    "db_2015_medias = pd.Series(db_2015.mean(axis=0)) #ok\n",
    "db_2016_medias = pd.Series(db_2016.mean(axis=0)) #ok\n",
    "db_2017_medias = pd.Series(db_2017.mean(axis=0)) #ok\n",
    "db_2018_medias = pd.Series(db_2018.mean(axis=0)) #ok\n",
    "db_2019_medias = pd.Series(db_2019.mean(axis=0)) #ok\n",
    "# fazer ano a ano depois..."
   ]
  },
  {
   "cell_type": "code",
   "execution_count": 6,
   "metadata": {},
   "outputs": [],
   "source": [
    "db_2015_medias.rename(index={'Standard Error': 'Lower Confidence Interval'}, inplace= True)\n",
    "db_2015_medias['Upper Confidence Interval'] = db_2015_medias['Happiness Score'] + db_2015_medias['Lower Confidence Interval'] \n",
    "db_2015_medias['Lower Confidence Interval'] = db_2015_medias['Happiness Score'] - db_2015_medias['Lower Confidence Interval']"
   ]
  },
  {
   "cell_type": "code",
   "execution_count": 7,
   "metadata": {},
   "outputs": [],
   "source": [
    "db_2017_medias.rename(index={'Happiness.Rank': 'Happiness Rank', 'Happiness.Score': 'Happiness Score',\n",
    "'Whisker.low': 'Lower Confidence Interval', 'Whisker.high': 'Upper Confidence Interval',\n",
    "'Economy..GDP.per.Capita.': 'Economy (GDP per Capita)', 'Health..Life.Expectancy.': 'Health (Life Expectancy)',\n",
    "'Trust..Government.Corruption.': 'Trust (Government Corruption)', 'Dystopia.Residual': 'Dystopia Residual'}, inplace= True)"
   ]
  },
  {
   "cell_type": "code",
   "execution_count": 8,
   "metadata": {},
   "outputs": [],
   "source": [
    "db_2018_medias.rename(index={'Overall rank': 'Happiness Rank', 'Score': 'Happiness Score',\n",
    "'Freedom to make life choices': 'Freedom',\n",
    "'GDP per capita': 'Economy (GDP per Capita)', 'Healthy life expectancy': 'Health (Life Expectancy)',\n",
    "'Perceptions of corruption': 'Trust (Government Corruption)', 'Social support': 'Family'}, inplace= True)"
   ]
  },
  {
   "cell_type": "code",
   "execution_count": 9,
   "metadata": {},
   "outputs": [],
   "source": [
    "db_2019_medias.rename(index={'Overall rank': 'Happiness Rank', 'Score': 'Happiness Score',\n",
    "'Freedom to make life choices': 'Freedom',\n",
    "'GDP per capita': 'Economy (GDP per Capita)', 'Healthy life expectancy': 'Health (Life Expectancy)',\n",
    "'Perceptions of corruption': 'Trust (Government Corruption)', 'Social support': 'Family'}, inplace= True)"
   ]
  },
  {
   "cell_type": "code",
   "execution_count": 10,
   "metadata": {},
   "outputs": [
    {
     "data": {
      "text/plain": [
       "Family                           0.170950\n",
       "Generosity                       0.149679\n",
       "Trust (Government Corruption)    0.118184\n",
       "Name: Maiores Variações, dtype: float64"
      ]
     },
     "execution_count": 10,
     "metadata": {},
     "output_type": "execute_result"
    }
   ],
   "source": [
    "db_medias_todos_anos = pd.DataFrame({'Medias 2015': db_2015_medias, 'Medias 2016': db_2016_medias, 'Medias 2017': db_2017_medias,\n",
    "'Medias 2018': db_2018_medias, 'Medias 2019': db_2019_medias})\n",
    "\n",
    "db_medias_todos_anos['Maiores Variações'] = db_medias_todos_anos.apply(lambda x: sts.stdev(x)/np.mean(x), axis=1)\n",
    "db_medias_todos_anos['Maiores Variações'].sort_values(ascending=False).head(3)\n",
    "\n",
    "#ano a ano? ou nos 5 anos?"
   ]
  },
  {
   "cell_type": "markdown",
   "metadata": {},
   "source": [
    "#### 3. Quais foram os top 3 países que mais tiveram mudança positiva e negativa de GPD"
   ]
  },
  {
   "cell_type": "code",
   "execution_count": 34,
   "metadata": {},
   "outputs": [],
   "source": [
    "db_2015_gdp = pd.DataFrame({'GDP 2015': list(db_2015['Economy (GDP per Capita)'])}, index=db_2015['Country'])\n",
    "db_2016_gdp = pd.DataFrame({'GDP 2016': list(db_2016['Economy (GDP per Capita)'])}, index=db_2016['Country'])\n",
    "db_2017_gdp = pd.DataFrame({'GDP 2017': list(db_2017['Economy..GDP.per.Capita.'])}, index=db_2017['Country'])\n",
    "db_2018_gdp = pd.DataFrame({'Country':db_2018['Country or region'], 'GDP 2018': list(db_2018['GDP per capita'])})\n",
    "db_2019_gdp = pd.DataFrame({'Country':db_2019['Country or region'], 'GDP 2019': list(db_2019['GDP per capita'])})"
   ]
  },
  {
   "cell_type": "code",
   "execution_count": 119,
   "metadata": {},
   "outputs": [
    {
     "name": "stdout",
     "output_type": "stream",
     "text": [
      "Country\n",
      "Mali       0.163260\n",
      "Malawi     0.146352\n",
      "Georgia    0.112693\n",
      "Name: delta GDP, dtype: float64\n",
      "Country\n",
      "Lebanon     -0.047692\n",
      "Jordan      -0.005718\n",
      "Venezuela   -0.005239\n",
      "Name: delta GDP, dtype: float64\n"
     ]
    }
   ],
   "source": [
    "db_gdp_16_17 = db_2016_gdp.merge(db_2017_gdp, on='Country')\n",
    "db_gdp_16_17['delta GDP'] = db_gdp_16_17['GDP 2017'] - db_gdp_16_17['GDP 2016']\n",
    "print(db_gdp_16_17['delta GDP'].nlargest(3)) #tres maiores positivos\n",
    "print(db_gdp_16_17['delta GDP'].nsmallest(3)) #tres maiores negativos"
   ]
  },
  {
   "cell_type": "markdown",
   "metadata": {},
   "source": [
    "#### 5. Qual foi o país que mais subiu no ranking no período inteiro analisado"
   ]
  },
  {
   "cell_type": "code",
   "execution_count": 63,
   "metadata": {},
   "outputs": [],
   "source": [
    "db_2015_limpa= db_2015.drop(['Standard Error','Region','Dystopia Residual'],axis=1)"
   ]
  },
  {
   "cell_type": "code",
   "execution_count": 50,
   "metadata": {},
   "outputs": [],
   "source": [
    "db_2016_limpa= db_2016.drop(['Region','Lower Confidence Interval', 'Upper Confidence Interval','Dystopia Residual'],axis=1)"
   ]
  },
  {
   "cell_type": "code",
   "execution_count": 51,
   "metadata": {},
   "outputs": [],
   "source": [
    "db_2017_limpa= db_2017.drop(['Whisker.high','Whisker.low','Dystopia.Residual'],axis=1)\n",
    "db_2017_limpa.columns=['Country', 'Happiness Rank', 'Happiness Score',\n",
    "       'Economy (GDP per Capita)', 'Family', 'Health (Life Expectancy)',\n",
    "       'Freedom', 'Trust (Government Corruption)', 'Generosity']"
   ]
  },
  {
   "cell_type": "code",
   "execution_count": 78,
   "metadata": {},
   "outputs": [],
   "source": [
    "db_2018_limpa=db_2018\n",
    "db_2018_limpa.columns=['Happiness Rank', 'Country', 'Happiness Score',\n",
    "       'Economy (GDP per Capita)', 'Family', 'Health (Life Expectancy)',\n",
    "       'Freedom', 'Trust (Government Corruption)', 'Generosity']"
   ]
  },
  {
   "cell_type": "code",
   "execution_count": 79,
   "metadata": {},
   "outputs": [],
   "source": [
    "db_2019_limpa=db_2019\n",
    "db_2019_limpa.columns=[ 'Happiness Rank', 'Country', 'Happiness Score',\n",
    "       'Economy (GDP per Capita)', 'Family', 'Health (Life Expectancy)',\n",
    "       'Freedom', 'Trust (Government Corruption)', 'Generosity']"
   ]
  },
  {
   "cell_type": "code",
   "execution_count": 72,
   "metadata": {},
   "outputs": [
    {
     "data": {
      "text/html": [
       "<div>\n",
       "<style scoped>\n",
       "    .dataframe tbody tr th:only-of-type {\n",
       "        vertical-align: middle;\n",
       "    }\n",
       "\n",
       "    .dataframe tbody tr th {\n",
       "        vertical-align: top;\n",
       "    }\n",
       "\n",
       "    .dataframe thead th {\n",
       "        text-align: right;\n",
       "    }\n",
       "</style>\n",
       "<table border=\"1\" class=\"dataframe\">\n",
       "  <thead>\n",
       "    <tr style=\"text-align: right;\">\n",
       "      <th></th>\n",
       "      <th>Country</th>\n",
       "      <th>Happiness Rank_2015</th>\n",
       "      <th>Happiness Rank_2019</th>\n",
       "      <th>Delta Happiness</th>\n",
       "    </tr>\n",
       "  </thead>\n",
       "  <tbody>\n",
       "    <tr>\n",
       "      <th>145</th>\n",
       "      <td>Benin</td>\n",
       "      <td>155</td>\n",
       "      <td>102</td>\n",
       "      <td>53</td>\n",
       "    </tr>\n",
       "  </tbody>\n",
       "</table>\n",
       "</div>"
      ],
      "text/plain": [
       "    Country  Happiness Rank_2015  Happiness Rank_2019  Delta Happiness\n",
       "145   Benin                  155                  102               53"
      ]
     },
     "execution_count": 72,
     "metadata": {},
     "output_type": "execute_result"
    }
   ],
   "source": [
    "df_happiness_rank = db_2015_limpa[['Country','Happiness Rank']].merge(db_2019_limpa[['Country','Happiness Rank']], on='Country', suffixes=('_2015','_2019'))\n",
    "df_happiness_rank['Delta Happiness'] = df_happiness_rank['Happiness Rank_2015'] - df_happiness_rank['Happiness Rank_2019']\n",
    "df_happiness_rank.nlargest(1, columns='Delta Happiness')"
   ]
  },
  {
   "cell_type": "markdown",
   "metadata": {},
   "source": [
    "#### 6. Teve países que saíram ou entraram do index?"
   ]
  },
  {
   "cell_type": "code",
   "execution_count": 106,
   "metadata": {},
   "outputs": [
    {
     "data": {
      "text/plain": [
       "['Angola',\n",
       " 'Belize',\n",
       " 'Central African Republic',\n",
       " 'Comoros',\n",
       " 'Djibouti',\n",
       " 'Gambia',\n",
       " 'Hong Kong',\n",
       " 'Hong Kong S.A.R., China',\n",
       " 'Laos',\n",
       " 'Lesotho',\n",
       " 'Macedonia',\n",
       " 'Mozambique',\n",
       " 'Namibia',\n",
       " 'North Cyprus',\n",
       " 'North Macedonia',\n",
       " 'Northern Cyprus',\n",
       " 'Oman',\n",
       " 'Puerto Rico',\n",
       " 'Somalia',\n",
       " 'Somaliland Region',\n",
       " 'Somaliland region',\n",
       " 'South Sudan',\n",
       " 'Sudan',\n",
       " 'Suriname',\n",
       " 'Swaziland',\n",
       " 'Taiwan',\n",
       " 'Taiwan Province of China',\n",
       " 'Trinidad & Tobago',\n",
       " 'Trinidad and Tobago']"
      ]
     },
     "execution_count": 106,
     "metadata": {},
     "output_type": "execute_result"
    }
   ],
   "source": [
    "aparicoes_paises = pd.concat([db_2015_limpa['Country'],db_2016_limpa['Country'],db_2017_limpa['Country'],db_2018_limpa['Country'],db_2019_limpa['Country']]).reset_index()\n",
    "serie_aparicoes = aparicoes_paises.groupby('Country').agg('size')\n",
    "lista_paises_aparicoes = list(serie_aparicoes[serie_aparicoes<5].index)\n",
    "lista_paises_aparicoes"
   ]
  },
  {
   "cell_type": "markdown",
   "metadata": {},
   "source": [
    "#### 7. Quais foram os 3 países que mais tiveram mudança na expectativa de vida, positiva e negativa. de 2017 para 2018"
   ]
  },
  {
   "cell_type": "code",
   "execution_count": 116,
   "metadata": {},
   "outputs": [
    {
     "data": {
      "text/html": [
       "<div>\n",
       "<style scoped>\n",
       "    .dataframe tbody tr th:only-of-type {\n",
       "        vertical-align: middle;\n",
       "    }\n",
       "\n",
       "    .dataframe tbody tr th {\n",
       "        vertical-align: top;\n",
       "    }\n",
       "\n",
       "    .dataframe thead th {\n",
       "        text-align: right;\n",
       "    }\n",
       "</style>\n",
       "<table border=\"1\" class=\"dataframe\">\n",
       "  <thead>\n",
       "    <tr style=\"text-align: right;\">\n",
       "      <th></th>\n",
       "      <th>Country</th>\n",
       "      <th>Health (Life Expectancy)_2017</th>\n",
       "      <th>Health (Life Expectancy)_2018</th>\n",
       "      <th>delta life expectancy</th>\n",
       "    </tr>\n",
       "  </thead>\n",
       "  <tbody>\n",
       "    <tr>\n",
       "      <th>135</th>\n",
       "      <td>Angola</td>\n",
       "      <td>0.049869</td>\n",
       "      <td>0.269</td>\n",
       "      <td>0.219131</td>\n",
       "    </tr>\n",
       "    <tr>\n",
       "      <th>107</th>\n",
       "      <td>Kenya</td>\n",
       "      <td>0.309988</td>\n",
       "      <td>0.454</td>\n",
       "      <td>0.144012</td>\n",
       "    </tr>\n",
       "    <tr>\n",
       "      <th>96</th>\n",
       "      <td>South Africa</td>\n",
       "      <td>0.187080</td>\n",
       "      <td>0.330</td>\n",
       "      <td>0.142920</td>\n",
       "    </tr>\n",
       "  </tbody>\n",
       "</table>\n",
       "</div>"
      ],
      "text/plain": [
       "          Country  Health (Life Expectancy)_2017  \\\n",
       "135        Angola                       0.049869   \n",
       "107         Kenya                       0.309988   \n",
       "96   South Africa                       0.187080   \n",
       "\n",
       "     Health (Life Expectancy)_2018  delta life expectancy  \n",
       "135                          0.269               0.219131  \n",
       "107                          0.454               0.144012  \n",
       "96                           0.330               0.142920  "
      ]
     },
     "metadata": {},
     "output_type": "display_data"
    },
    {
     "data": {
      "text/html": [
       "<div>\n",
       "<style scoped>\n",
       "    .dataframe tbody tr th:only-of-type {\n",
       "        vertical-align: middle;\n",
       "    }\n",
       "\n",
       "    .dataframe tbody tr th {\n",
       "        vertical-align: top;\n",
       "    }\n",
       "\n",
       "    .dataframe thead th {\n",
       "        text-align: right;\n",
       "    }\n",
       "</style>\n",
       "<table border=\"1\" class=\"dataframe\">\n",
       "  <thead>\n",
       "    <tr style=\"text-align: right;\">\n",
       "      <th></th>\n",
       "      <th>Country</th>\n",
       "      <th>Health (Life Expectancy)_2017</th>\n",
       "      <th>Health (Life Expectancy)_2018</th>\n",
       "      <th>delta life expectancy</th>\n",
       "    </tr>\n",
       "  </thead>\n",
       "  <tbody>\n",
       "    <tr>\n",
       "      <th>20</th>\n",
       "      <td>United Arab Emirates</td>\n",
       "      <td>0.726798</td>\n",
       "      <td>0.670</td>\n",
       "      <td>-0.056798</td>\n",
       "    </tr>\n",
       "    <tr>\n",
       "      <th>130</th>\n",
       "      <td>Niger</td>\n",
       "      <td>0.268505</td>\n",
       "      <td>0.221</td>\n",
       "      <td>-0.047505</td>\n",
       "    </tr>\n",
       "    <tr>\n",
       "      <th>122</th>\n",
       "      <td>Mali</td>\n",
       "      <td>0.169366</td>\n",
       "      <td>0.152</td>\n",
       "      <td>-0.017366</td>\n",
       "    </tr>\n",
       "  </tbody>\n",
       "</table>\n",
       "</div>"
      ],
      "text/plain": [
       "                  Country  Health (Life Expectancy)_2017  \\\n",
       "20   United Arab Emirates                       0.726798   \n",
       "130                 Niger                       0.268505   \n",
       "122                  Mali                       0.169366   \n",
       "\n",
       "     Health (Life Expectancy)_2018  delta life expectancy  \n",
       "20                           0.670              -0.056798  \n",
       "130                          0.221              -0.047505  \n",
       "122                          0.152              -0.017366  "
      ]
     },
     "metadata": {},
     "output_type": "display_data"
    }
   ],
   "source": [
    "db_life_expectancy = db_2017_limpa[['Country', 'Health (Life Expectancy)']].merge(db_2018_limpa[['Country', 'Health (Life Expectancy)']], on='Country', suffixes=('_2017', '_2018'))\n",
    "db_life_expectancy['delta life expectancy'] = db_life_expectancy['Health (Life Expectancy)_2018'] - db_life_expectancy['Health (Life Expectancy)_2017']\n",
    "display(db_life_expectancy.nlargest(3, columns='delta life expectancy')) #tres maiores positivos\n",
    "display(db_life_expectancy.nsmallest(3, columns='delta life expectancy')) #tres maiores negativos"
   ]
  },
  {
   "cell_type": "markdown",
   "metadata": {},
   "source": [
    "#### 8. Até 2 questões extras que vocês acham interessante analisar"
   ]
  },
  {
   "cell_type": "code",
   "execution_count": null,
   "metadata": {},
   "outputs": [],
   "source": []
  }
 ],
 "metadata": {
  "kernelspec": {
   "display_name": "Python 3.9.7 ('base')",
   "language": "python",
   "name": "python3"
  },
  "language_info": {
   "codemirror_mode": {
    "name": "ipython",
    "version": 3
   },
   "file_extension": ".py",
   "mimetype": "text/x-python",
   "name": "python",
   "nbconvert_exporter": "python",
   "pygments_lexer": "ipython3",
   "version": "3.9.7"
  },
  "orig_nbformat": 4,
  "vscode": {
   "interpreter": {
    "hash": "ad2bdc8ecc057115af97d19610ffacc2b4e99fae6737bb82f5d7fb13d2f2c186"
   }
  }
 },
 "nbformat": 4,
 "nbformat_minor": 2
}
