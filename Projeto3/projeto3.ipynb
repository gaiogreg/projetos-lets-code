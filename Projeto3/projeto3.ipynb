{
 "cells": [
  {
   "cell_type": "markdown",
   "metadata": {},
   "source": [
    "# Projeto 3 - World Happiness Report"
   ]
  },
  {
   "cell_type": "markdown",
   "metadata": {},
   "source": [
    "Grupo: Gregório Gaio, Guilherme César, Lucas Medeiros, Rodrigo Cruz e Vinicius Maciel"
   ]
  },
  {
   "cell_type": "code",
   "execution_count": 1,
   "metadata": {},
   "outputs": [],
   "source": [
    "import numpy as np\n",
    "import pandas as pd\n",
    "import statistics as sts"
   ]
  },
  {
   "cell_type": "code",
   "execution_count": 2,
   "metadata": {},
   "outputs": [],
   "source": [
    "db_2015 = pd.read_csv('2015.csv',delimiter=',')\n",
    "db_2016 = pd.read_csv('2016.csv',delimiter=',')\n",
    "db_2017 = pd.read_csv('2017.csv',delimiter=',')\n",
    "db_2018 = pd.read_csv('2018.csv',delimiter=',')\n",
    "db_2019 = pd.read_csv('2019.csv',delimiter=',')"
   ]
  },
  {
   "cell_type": "markdown",
   "metadata": {},
   "source": [
    "#### 1. Top 10 índices de felicidade de cada ano de 2015-2019"
   ]
  },
  {
   "cell_type": "code",
   "execution_count": 3,
   "metadata": {},
   "outputs": [
    {
     "data": {
      "text/html": [
       "<div>\n",
       "<style scoped>\n",
       "    .dataframe tbody tr th:only-of-type {\n",
       "        vertical-align: middle;\n",
       "    }\n",
       "\n",
       "    .dataframe tbody tr th {\n",
       "        vertical-align: top;\n",
       "    }\n",
       "\n",
       "    .dataframe thead th {\n",
       "        text-align: right;\n",
       "    }\n",
       "</style>\n",
       "<table border=\"1\" class=\"dataframe\">\n",
       "  <thead>\n",
       "    <tr style=\"text-align: right;\">\n",
       "      <th></th>\n",
       "      <th>Countries 2015</th>\n",
       "      <th>Countries 2016</th>\n",
       "      <th>Countries 2017</th>\n",
       "      <th>Countries 2018</th>\n",
       "      <th>Countries 2019</th>\n",
       "    </tr>\n",
       "  </thead>\n",
       "  <tbody>\n",
       "    <tr>\n",
       "      <th>0</th>\n",
       "      <td>Switzerland</td>\n",
       "      <td>Denmark</td>\n",
       "      <td>Norway</td>\n",
       "      <td>Finland</td>\n",
       "      <td>Finland</td>\n",
       "    </tr>\n",
       "    <tr>\n",
       "      <th>1</th>\n",
       "      <td>Iceland</td>\n",
       "      <td>Switzerland</td>\n",
       "      <td>Denmark</td>\n",
       "      <td>Norway</td>\n",
       "      <td>Denmark</td>\n",
       "    </tr>\n",
       "    <tr>\n",
       "      <th>2</th>\n",
       "      <td>Denmark</td>\n",
       "      <td>Iceland</td>\n",
       "      <td>Iceland</td>\n",
       "      <td>Denmark</td>\n",
       "      <td>Norway</td>\n",
       "    </tr>\n",
       "    <tr>\n",
       "      <th>3</th>\n",
       "      <td>Norway</td>\n",
       "      <td>Norway</td>\n",
       "      <td>Switzerland</td>\n",
       "      <td>Iceland</td>\n",
       "      <td>Iceland</td>\n",
       "    </tr>\n",
       "    <tr>\n",
       "      <th>4</th>\n",
       "      <td>Canada</td>\n",
       "      <td>Finland</td>\n",
       "      <td>Finland</td>\n",
       "      <td>Switzerland</td>\n",
       "      <td>Netherlands</td>\n",
       "    </tr>\n",
       "    <tr>\n",
       "      <th>5</th>\n",
       "      <td>Finland</td>\n",
       "      <td>Canada</td>\n",
       "      <td>Netherlands</td>\n",
       "      <td>Netherlands</td>\n",
       "      <td>Switzerland</td>\n",
       "    </tr>\n",
       "    <tr>\n",
       "      <th>6</th>\n",
       "      <td>Netherlands</td>\n",
       "      <td>Netherlands</td>\n",
       "      <td>Canada</td>\n",
       "      <td>Canada</td>\n",
       "      <td>Sweden</td>\n",
       "    </tr>\n",
       "    <tr>\n",
       "      <th>7</th>\n",
       "      <td>Sweden</td>\n",
       "      <td>New Zealand</td>\n",
       "      <td>New Zealand</td>\n",
       "      <td>New Zealand</td>\n",
       "      <td>New Zealand</td>\n",
       "    </tr>\n",
       "    <tr>\n",
       "      <th>8</th>\n",
       "      <td>New Zealand</td>\n",
       "      <td>Australia</td>\n",
       "      <td>Sweden</td>\n",
       "      <td>Sweden</td>\n",
       "      <td>Canada</td>\n",
       "    </tr>\n",
       "    <tr>\n",
       "      <th>9</th>\n",
       "      <td>Australia</td>\n",
       "      <td>Sweden</td>\n",
       "      <td>Australia</td>\n",
       "      <td>Australia</td>\n",
       "      <td>Austria</td>\n",
       "    </tr>\n",
       "  </tbody>\n",
       "</table>\n",
       "</div>"
      ],
      "text/plain": [
       "  Countries 2015 Countries 2016 Countries 2017 Countries 2018 Countries 2019\n",
       "0    Switzerland        Denmark         Norway        Finland        Finland\n",
       "1        Iceland    Switzerland        Denmark         Norway        Denmark\n",
       "2        Denmark        Iceland        Iceland        Denmark         Norway\n",
       "3         Norway         Norway    Switzerland        Iceland        Iceland\n",
       "4         Canada        Finland        Finland    Switzerland    Netherlands\n",
       "5        Finland         Canada    Netherlands    Netherlands    Switzerland\n",
       "6    Netherlands    Netherlands         Canada         Canada         Sweden\n",
       "7         Sweden    New Zealand    New Zealand    New Zealand    New Zealand\n",
       "8    New Zealand      Australia         Sweden         Sweden         Canada\n",
       "9      Australia         Sweden      Australia      Australia        Austria"
      ]
     },
     "execution_count": 3,
     "metadata": {},
     "output_type": "execute_result"
    }
   ],
   "source": [
    "db_todos_anos_pais = pd.DataFrame({'Countries 2015': db_2015['Country'],'Countries 2016':db_2016['Country'],'Countries 2017':db_2017['Country'],\n",
    "'Countries 2018':db_2018['Country or region'],'Countries 2019':db_2019['Country or region']})\n",
    "db_top_10_todos_anos = db_todos_anos_pais.head(10)\n",
    "db_top_10_todos_anos"
   ]
  },
  {
   "cell_type": "markdown",
   "metadata": {},
   "source": [
    "- Os 10 primeiros não se alteram ao longo dos 5 anos. <br>\n",
    "- Dinamarca sempre no top 3.<br>\n",
    "- Maioria dos paises sao Europeus (mais Australia, Canada, e Nova Zelandia)."
   ]
  },
  {
   "cell_type": "markdown",
   "metadata": {},
   "source": [
    "#### 2. Considerando a média de todas as variáveis, quais foram as 3 variáveis que mais mudaram ano a ano "
   ]
  },
  {
   "cell_type": "code",
   "execution_count": 4,
   "metadata": {},
   "outputs": [
    {
     "name": "stderr",
     "output_type": "stream",
     "text": [
      "/tmp/ipykernel_648/9883795.py:1: FutureWarning: Dropping of nuisance columns in DataFrame reductions (with 'numeric_only=None') is deprecated; in a future version this will raise TypeError.  Select only valid columns before calling the reduction.\n",
      "  db_2015_medias = pd.Series(db_2015.mean(axis=0))\n",
      "/tmp/ipykernel_648/9883795.py:2: FutureWarning: Dropping of nuisance columns in DataFrame reductions (with 'numeric_only=None') is deprecated; in a future version this will raise TypeError.  Select only valid columns before calling the reduction.\n",
      "  db_2016_medias = pd.Series(db_2016.mean(axis=0))\n",
      "/tmp/ipykernel_648/9883795.py:3: FutureWarning: Dropping of nuisance columns in DataFrame reductions (with 'numeric_only=None') is deprecated; in a future version this will raise TypeError.  Select only valid columns before calling the reduction.\n",
      "  db_2017_medias = pd.Series(db_2017.mean(axis=0))\n",
      "/tmp/ipykernel_648/9883795.py:4: FutureWarning: Dropping of nuisance columns in DataFrame reductions (with 'numeric_only=None') is deprecated; in a future version this will raise TypeError.  Select only valid columns before calling the reduction.\n",
      "  db_2018_medias = pd.Series(db_2018.mean(axis=0))\n",
      "/tmp/ipykernel_648/9883795.py:5: FutureWarning: Dropping of nuisance columns in DataFrame reductions (with 'numeric_only=None') is deprecated; in a future version this will raise TypeError.  Select only valid columns before calling the reduction.\n",
      "  db_2019_medias = pd.Series(db_2019.mean(axis=0))\n"
     ]
    }
   ],
   "source": [
    "db_2015_medias = pd.Series(db_2015.mean(axis=0))\n",
    "db_2016_medias = pd.Series(db_2016.mean(axis=0))\n",
    "db_2017_medias = pd.Series(db_2017.mean(axis=0))\n",
    "db_2018_medias = pd.Series(db_2018.mean(axis=0))\n",
    "db_2019_medias = pd.Series(db_2019.mean(axis=0))"
   ]
  },
  {
   "cell_type": "markdown",
   "metadata": {},
   "source": [
    "- Precisamos renomear as colunas para evitar problemas"
   ]
  },
  {
   "cell_type": "code",
   "execution_count": 5,
   "metadata": {},
   "outputs": [],
   "source": [
    "db_2015_medias.rename(index={'Standard Error': 'Lower Confidence Interval'}, inplace= True)\n",
    "db_2015_medias['Upper Confidence Interval'] = db_2015_medias['Happiness Score'] + db_2015_medias['Lower Confidence Interval'] \n",
    "db_2015_medias['Lower Confidence Interval'] = db_2015_medias['Happiness Score'] - db_2015_medias['Lower Confidence Interval']"
   ]
  },
  {
   "cell_type": "code",
   "execution_count": 6,
   "metadata": {},
   "outputs": [],
   "source": [
    "db_2017_medias.rename(index={'Happiness.Rank': 'Happiness Rank', 'Happiness.Score': 'Happiness Score',\n",
    "'Whisker.low': 'Lower Confidence Interval', 'Whisker.high': 'Upper Confidence Interval',\n",
    "'Economy..GDP.per.Capita.': 'Economy (GDP per Capita)', 'Health..Life.Expectancy.': 'Health (Life Expectancy)',\n",
    "'Trust..Government.Corruption.': 'Trust (Government Corruption)', 'Dystopia.Residual': 'Dystopia Residual'}, inplace= True)"
   ]
  },
  {
   "cell_type": "code",
   "execution_count": 7,
   "metadata": {},
   "outputs": [],
   "source": [
    "db_2018_medias.rename(index={'Overall rank': 'Happiness Rank', 'Score': 'Happiness Score',\n",
    "'Freedom to make life choices': 'Freedom',\n",
    "'GDP per capita': 'Economy (GDP per Capita)', 'Healthy life expectancy': 'Health (Life Expectancy)',\n",
    "'Perceptions of corruption': 'Trust (Government Corruption)', 'Social support': 'Family'}, inplace= True)"
   ]
  },
  {
   "cell_type": "code",
   "execution_count": 8,
   "metadata": {},
   "outputs": [],
   "source": [
    "db_2019_medias.rename(index={'Overall rank': 'Happiness Rank', 'Score': 'Happiness Score',\n",
    "'Freedom to make life choices': 'Freedom',\n",
    "'GDP per capita': 'Economy (GDP per Capita)', 'Healthy life expectancy': 'Health (Life Expectancy)',\n",
    "'Perceptions of corruption': 'Trust (Government Corruption)', 'Social support': 'Family'}, inplace= True)"
   ]
  },
  {
   "cell_type": "markdown",
   "metadata": {},
   "source": [
    "- Fizemos a variação relativa entre as médias"
   ]
  },
  {
   "cell_type": "code",
   "execution_count": 9,
   "metadata": {},
   "outputs": [
    {
     "data": {
      "text/plain": [
       "'Variacoes 15-16'"
      ]
     },
     "metadata": {},
     "output_type": "display_data"
    },
    {
     "data": {
      "text/plain": [
       "Family                      0.110623\n",
       "Freedom                     0.072062\n",
       "Health (Life Expectancy)    0.061151\n",
       "Name: Maiores Variações, dtype: float64"
      ]
     },
     "metadata": {},
     "output_type": "display_data"
    },
    {
     "data": {
      "text/plain": [
       "'Variacoes 16-17'"
      ]
     },
     "metadata": {},
     "output_type": "display_data"
    },
    {
     "data": {
      "text/plain": [
       "Family                           0.199381\n",
       "Dystopia Residual                0.113880\n",
       "Trust (Government Corruption)    0.055624\n",
       "Name: Maiores Variações, dtype: float64"
      ]
     },
     "metadata": {},
     "output_type": "display_data"
    },
    {
     "data": {
      "text/plain": [
       "'Variacoes 17-18'"
      ]
     },
     "metadata": {},
     "output_type": "display_data"
    },
    {
     "data": {
      "text/plain": [
       "Generosity                  0.153958\n",
       "Freedom                     0.052961\n",
       "Economy (GDP per Capita)    0.049713\n",
       "Name: Maiores Variações, dtype: float64"
      ]
     },
     "metadata": {},
     "output_type": "display_data"
    },
    {
     "data": {
      "text/plain": [
       "'Variacoes 18-19'"
      ]
     },
     "metadata": {},
     "output_type": "display_data"
    },
    {
     "data": {
      "text/plain": [
       "Health (Life Expectancy)    0.096702\n",
       "Freedom                     0.073117\n",
       "Generosity                  0.010495\n",
       "Name: Maiores Variações, dtype: float64"
      ]
     },
     "metadata": {},
     "output_type": "display_data"
    }
   ],
   "source": [
    "db_variacoes_15_16 = pd.DataFrame({'Medias 2015': db_2015_medias, 'Medias 2016': db_2016_medias})\n",
    "db_variacoes_16_17 = pd.DataFrame({'Medias 2016': db_2016_medias, 'Medias 2017': db_2017_medias})\n",
    "db_variacoes_17_18 = pd.DataFrame({'Medias 2017': db_2017_medias, 'Medias 2018': db_2018_medias})\n",
    "db_variacoes_18_19 = pd.DataFrame({'Medias 2018': db_2018_medias, 'Medias 2019': db_2019_medias})\n",
    "\n",
    "db_variacoes_15_16['Maiores Variações'] = db_variacoes_15_16.apply(lambda x: np.std(x)/np.mean(x), axis=1)\n",
    "display('Variacoes 15-16', db_variacoes_15_16['Maiores Variações'].sort_values(ascending=False).head(3))\n",
    "\n",
    "db_variacoes_16_17['Maiores Variações'] = db_variacoes_16_17.apply(lambda x: np.std(x)/np.mean(x), axis=1)\n",
    "display('Variacoes 16-17', db_variacoes_16_17['Maiores Variações'].sort_values(ascending=False).head(3))\n",
    "\n",
    "db_variacoes_17_18['Maiores Variações'] = db_variacoes_17_18.apply(lambda x: np.std(x)/np.mean(x), axis=1)\n",
    "display('Variacoes 17-18', db_variacoes_17_18['Maiores Variações'].sort_values(ascending=False).head(3))\n",
    "\n",
    "db_variacoes_18_19['Maiores Variações'] = db_variacoes_18_19.apply(lambda x: np.std(x)/np.mean(x), axis=1)\n",
    "display('Variacoes 18-19', db_variacoes_18_19['Maiores Variações'].sort_values(ascending=False).head(3))\n"
   ]
  },
  {
   "cell_type": "markdown",
   "metadata": {},
   "source": [
    "#### 3. Quais foram os top 3 países que mais tiveram mudança positiva e negativa de GPD"
   ]
  },
  {
   "cell_type": "code",
   "execution_count": 10,
   "metadata": {},
   "outputs": [],
   "source": [
    "db_2015_gdp = pd.DataFrame({'GDP 2015': list(db_2015['Economy (GDP per Capita)'])}, index=db_2015['Country'])\n",
    "db_2016_gdp = pd.DataFrame({'GDP 2016': list(db_2016['Economy (GDP per Capita)'])}, index=db_2016['Country'])\n",
    "db_2017_gdp = pd.DataFrame({'GDP 2017': list(db_2017['Economy..GDP.per.Capita.'])}, index=db_2017['Country'])\n",
    "db_2018_gdp = pd.DataFrame({'Country':db_2018['Country or region'], 'GDP 2018': list(db_2018['GDP per capita'])})\n",
    "db_2019_gdp = pd.DataFrame({'Country':db_2019['Country or region'], 'GDP 2019': list(db_2019['GDP per capita'])})"
   ]
  },
  {
   "cell_type": "code",
   "execution_count": 11,
   "metadata": {},
   "outputs": [
    {
     "data": {
      "text/plain": [
       "Country\n",
       "Mali       0.163260\n",
       "Malawi     0.146352\n",
       "Georgia    0.112693\n",
       "Name: delta GDP, dtype: float64"
      ]
     },
     "metadata": {},
     "output_type": "display_data"
    },
    {
     "data": {
      "text/plain": [
       "Country\n",
       "Lebanon     -0.047692\n",
       "Jordan      -0.005718\n",
       "Venezuela   -0.005239\n",
       "Name: delta GDP, dtype: float64"
      ]
     },
     "metadata": {},
     "output_type": "display_data"
    }
   ],
   "source": [
    "db_gdp_16_17 = db_2016_gdp.merge(db_2017_gdp, on='Country')\n",
    "db_gdp_16_17['delta GDP'] = db_gdp_16_17['GDP 2017'] - db_gdp_16_17['GDP 2016']\n",
    "display(db_gdp_16_17['delta GDP'].nlargest(3)) #tres maiores positivos\n",
    "display(db_gdp_16_17['delta GDP'].nsmallest(3)) #tres maiores negativos"
   ]
  },
  {
   "cell_type": "markdown",
   "metadata": {},
   "source": [
    "#### 5. Qual foi o país que mais subiu no ranking no período inteiro analisado"
   ]
  },
  {
   "cell_type": "markdown",
   "metadata": {},
   "source": [
    "- Dropamos as colunas irrelevantes e renomeamos o resto"
   ]
  },
  {
   "cell_type": "code",
   "execution_count": 12,
   "metadata": {},
   "outputs": [],
   "source": [
    "db_2015_limpa= db_2015.drop(['Standard Error','Region','Dystopia Residual'],axis=1)"
   ]
  },
  {
   "cell_type": "code",
   "execution_count": 13,
   "metadata": {},
   "outputs": [],
   "source": [
    "db_2016_limpa= db_2016.drop(['Region','Lower Confidence Interval', 'Upper Confidence Interval','Dystopia Residual'],axis=1)"
   ]
  },
  {
   "cell_type": "code",
   "execution_count": 14,
   "metadata": {},
   "outputs": [],
   "source": [
    "db_2017_limpa= db_2017.drop(['Whisker.high','Whisker.low','Dystopia.Residual'],axis=1)\n",
    "db_2017_limpa.columns=['Country', 'Happiness Rank', 'Happiness Score',\n",
    "       'Economy (GDP per Capita)', 'Family', 'Health (Life Expectancy)',\n",
    "       'Freedom', 'Trust (Government Corruption)', 'Generosity']"
   ]
  },
  {
   "cell_type": "code",
   "execution_count": 15,
   "metadata": {},
   "outputs": [],
   "source": [
    "db_2018_limpa=db_2018\n",
    "db_2018_limpa.columns=['Happiness Rank', 'Country', 'Happiness Score',\n",
    "       'Economy (GDP per Capita)', 'Family', 'Health (Life Expectancy)',\n",
    "       'Freedom', 'Trust (Government Corruption)', 'Generosity']"
   ]
  },
  {
   "cell_type": "code",
   "execution_count": 16,
   "metadata": {},
   "outputs": [],
   "source": [
    "db_2019_limpa=db_2019\n",
    "db_2019_limpa.columns=[ 'Happiness Rank', 'Country', 'Happiness Score',\n",
    "       'Economy (GDP per Capita)', 'Family', 'Health (Life Expectancy)',\n",
    "       'Freedom', 'Trust (Government Corruption)', 'Generosity']"
   ]
  },
  {
   "cell_type": "code",
   "execution_count": 17,
   "metadata": {},
   "outputs": [
    {
     "data": {
      "text/html": [
       "<div>\n",
       "<style scoped>\n",
       "    .dataframe tbody tr th:only-of-type {\n",
       "        vertical-align: middle;\n",
       "    }\n",
       "\n",
       "    .dataframe tbody tr th {\n",
       "        vertical-align: top;\n",
       "    }\n",
       "\n",
       "    .dataframe thead th {\n",
       "        text-align: right;\n",
       "    }\n",
       "</style>\n",
       "<table border=\"1\" class=\"dataframe\">\n",
       "  <thead>\n",
       "    <tr style=\"text-align: right;\">\n",
       "      <th></th>\n",
       "      <th>Country</th>\n",
       "      <th>Happiness Rank_2015</th>\n",
       "      <th>Happiness Rank_2019</th>\n",
       "      <th>Delta Happiness</th>\n",
       "    </tr>\n",
       "  </thead>\n",
       "  <tbody>\n",
       "    <tr>\n",
       "      <th>145</th>\n",
       "      <td>Benin</td>\n",
       "      <td>155</td>\n",
       "      <td>102</td>\n",
       "      <td>53</td>\n",
       "    </tr>\n",
       "  </tbody>\n",
       "</table>\n",
       "</div>"
      ],
      "text/plain": [
       "    Country  Happiness Rank_2015  Happiness Rank_2019  Delta Happiness\n",
       "145   Benin                  155                  102               53"
      ]
     },
     "execution_count": 17,
     "metadata": {},
     "output_type": "execute_result"
    }
   ],
   "source": [
    "df_happiness_rank = db_2015_limpa[['Country','Happiness Rank']].merge(db_2019_limpa[['Country','Happiness Rank']], on='Country', suffixes=('_2015','_2019'))\n",
    "df_happiness_rank['Delta Happiness'] = df_happiness_rank['Happiness Rank_2015'] - df_happiness_rank['Happiness Rank_2019']\n",
    "df_happiness_rank.nlargest(1, columns='Delta Happiness')"
   ]
  },
  {
   "cell_type": "markdown",
   "metadata": {},
   "source": [
    "#### 6. Teve países que saíram ou entraram do index?"
   ]
  },
  {
   "cell_type": "markdown",
   "metadata": {},
   "source": [
    "- A princípio, qualquer país que apareça menos de 5 vezes foi incluído ou tirado da lista"
   ]
  },
  {
   "cell_type": "code",
   "execution_count": 18,
   "metadata": {},
   "outputs": [
    {
     "name": "stdout",
     "output_type": "stream",
     "text": [
      "Country\n",
      "Angola                      4\n",
      "Belize                      3\n",
      "Central African Republic    4\n",
      "Comoros                     3\n",
      "Djibouti                    1\n",
      "Gambia                      1\n",
      "Hong Kong                   4\n",
      "Hong Kong S.A.R., China     1\n",
      "Laos                        4\n",
      "Lesotho                     4\n",
      "Macedonia                   4\n",
      "Mozambique                  4\n",
      "Namibia                     4\n",
      "North Cyprus                3\n",
      "North Macedonia             1\n",
      "Northern Cyprus             2\n",
      "Oman                        1\n",
      "Puerto Rico                 1\n",
      "Somalia                     4\n",
      "Somaliland Region           1\n",
      "Somaliland region           1\n",
      "South Sudan                 4\n",
      "Sudan                       4\n",
      "Suriname                    2\n",
      "Swaziland                   2\n",
      "Taiwan                      4\n",
      "Taiwan Province of China    1\n",
      "Trinidad & Tobago           2\n",
      "Trinidad and Tobago         3\n",
      "dtype: int64\n"
     ]
    }
   ],
   "source": [
    "aparicoes_paises = pd.concat([db_2015_limpa['Country'],db_2016_limpa['Country'],db_2017_limpa['Country'],db_2018_limpa['Country'],db_2019_limpa['Country']]).reset_index()\n",
    "serie_aparicoes = aparicoes_paises.groupby('Country').agg('size')\n",
    "paises_movimentados = serie_aparicoes[serie_aparicoes<5]\n",
    "print(paises_movimentados)"
   ]
  },
  {
   "cell_type": "markdown",
   "metadata": {},
   "source": [
    "Após análise da lista, a equipe percebeu que alguns países representados na base de dados mudaram de nome ao longo do tempo, entretanto, nunca foram excluídos ou inseridos no index, poluíndo assim a lista final. A partir de pesquisas, os países que mudaram de nome e estiveram sempre no index foram removidos manualmente da lista. Ademais, o país 'Somaliland Region', possuía em uma das bases um erro de digitação, em que uma nas letras iniciais estava minúscula. Esse dado também foi retirado da lista final."
   ]
  },
  {
   "cell_type": "code",
   "execution_count": 19,
   "metadata": {},
   "outputs": [
    {
     "name": "stdout",
     "output_type": "stream",
     "text": [
      "['Angola', 'Belize', 'Central African Republic', 'Comoros', 'Djibouti', 'Gambia', 'Laos', 'Lesotho', 'Mozambique', 'Namibia', 'Oman', 'Puerto Rico', 'Somalia', 'Somaliland Region', 'South Sudan', 'Sudan', 'Suriname', 'Swaziland']\n"
     ]
    }
   ],
   "source": [
    "paises_movimentados  = paises_movimentados.drop(['Hong Kong', 'Hong Kong S.A.R., China', 'North Cyprus', 'Northern Cyprus', 'Somaliland region', 'Taiwan', 'Taiwan Province of China', 'Trinidad & Tobago', 'Trinidad and Tobago', 'Macedonia', 'North Macedonia'])\n",
    "lista_paises_movimentados = list(paises_movimentados.index)\n",
    "print(lista_paises_movimentados)"
   ]
  },
  {
   "cell_type": "markdown",
   "metadata": {},
   "source": [
    "#### 7. Quais foram os 3 países que mais tiveram mudança na expectativa de vida, positiva e negativa de 2017 para 2018"
   ]
  },
  {
   "cell_type": "code",
   "execution_count": 20,
   "metadata": {},
   "outputs": [
    {
     "data": {
      "text/html": [
       "<div>\n",
       "<style scoped>\n",
       "    .dataframe tbody tr th:only-of-type {\n",
       "        vertical-align: middle;\n",
       "    }\n",
       "\n",
       "    .dataframe tbody tr th {\n",
       "        vertical-align: top;\n",
       "    }\n",
       "\n",
       "    .dataframe thead th {\n",
       "        text-align: right;\n",
       "    }\n",
       "</style>\n",
       "<table border=\"1\" class=\"dataframe\">\n",
       "  <thead>\n",
       "    <tr style=\"text-align: right;\">\n",
       "      <th></th>\n",
       "      <th>Country</th>\n",
       "      <th>Health (Life Expectancy)_2017</th>\n",
       "      <th>Health (Life Expectancy)_2018</th>\n",
       "      <th>delta life expectancy</th>\n",
       "    </tr>\n",
       "  </thead>\n",
       "  <tbody>\n",
       "    <tr>\n",
       "      <th>135</th>\n",
       "      <td>Angola</td>\n",
       "      <td>0.049869</td>\n",
       "      <td>0.269</td>\n",
       "      <td>0.219131</td>\n",
       "    </tr>\n",
       "    <tr>\n",
       "      <th>107</th>\n",
       "      <td>Kenya</td>\n",
       "      <td>0.309988</td>\n",
       "      <td>0.454</td>\n",
       "      <td>0.144012</td>\n",
       "    </tr>\n",
       "    <tr>\n",
       "      <th>96</th>\n",
       "      <td>South Africa</td>\n",
       "      <td>0.187080</td>\n",
       "      <td>0.330</td>\n",
       "      <td>0.142920</td>\n",
       "    </tr>\n",
       "  </tbody>\n",
       "</table>\n",
       "</div>"
      ],
      "text/plain": [
       "          Country  Health (Life Expectancy)_2017  \\\n",
       "135        Angola                       0.049869   \n",
       "107         Kenya                       0.309988   \n",
       "96   South Africa                       0.187080   \n",
       "\n",
       "     Health (Life Expectancy)_2018  delta life expectancy  \n",
       "135                          0.269               0.219131  \n",
       "107                          0.454               0.144012  \n",
       "96                           0.330               0.142920  "
      ]
     },
     "metadata": {},
     "output_type": "display_data"
    },
    {
     "data": {
      "text/html": [
       "<div>\n",
       "<style scoped>\n",
       "    .dataframe tbody tr th:only-of-type {\n",
       "        vertical-align: middle;\n",
       "    }\n",
       "\n",
       "    .dataframe tbody tr th {\n",
       "        vertical-align: top;\n",
       "    }\n",
       "\n",
       "    .dataframe thead th {\n",
       "        text-align: right;\n",
       "    }\n",
       "</style>\n",
       "<table border=\"1\" class=\"dataframe\">\n",
       "  <thead>\n",
       "    <tr style=\"text-align: right;\">\n",
       "      <th></th>\n",
       "      <th>Country</th>\n",
       "      <th>Health (Life Expectancy)_2017</th>\n",
       "      <th>Health (Life Expectancy)_2018</th>\n",
       "      <th>delta life expectancy</th>\n",
       "    </tr>\n",
       "  </thead>\n",
       "  <tbody>\n",
       "    <tr>\n",
       "      <th>20</th>\n",
       "      <td>United Arab Emirates</td>\n",
       "      <td>0.726798</td>\n",
       "      <td>0.670</td>\n",
       "      <td>-0.056798</td>\n",
       "    </tr>\n",
       "    <tr>\n",
       "      <th>130</th>\n",
       "      <td>Niger</td>\n",
       "      <td>0.268505</td>\n",
       "      <td>0.221</td>\n",
       "      <td>-0.047505</td>\n",
       "    </tr>\n",
       "    <tr>\n",
       "      <th>122</th>\n",
       "      <td>Mali</td>\n",
       "      <td>0.169366</td>\n",
       "      <td>0.152</td>\n",
       "      <td>-0.017366</td>\n",
       "    </tr>\n",
       "  </tbody>\n",
       "</table>\n",
       "</div>"
      ],
      "text/plain": [
       "                  Country  Health (Life Expectancy)_2017  \\\n",
       "20   United Arab Emirates                       0.726798   \n",
       "130                 Niger                       0.268505   \n",
       "122                  Mali                       0.169366   \n",
       "\n",
       "     Health (Life Expectancy)_2018  delta life expectancy  \n",
       "20                           0.670              -0.056798  \n",
       "130                          0.221              -0.047505  \n",
       "122                          0.152              -0.017366  "
      ]
     },
     "metadata": {},
     "output_type": "display_data"
    }
   ],
   "source": [
    "db_life_expectancy = db_2017_limpa[['Country', 'Health (Life Expectancy)']].merge(db_2018_limpa[['Country', 'Health (Life Expectancy)']], on='Country', suffixes=('_2017', '_2018'))\n",
    "db_life_expectancy['delta life expectancy'] = db_life_expectancy['Health (Life Expectancy)_2018'] - db_life_expectancy['Health (Life Expectancy)_2017']\n",
    "display(db_life_expectancy.nlargest(3, columns='delta life expectancy')) #tres maiores positivos\n",
    "display(db_life_expectancy.nsmallest(3, columns='delta life expectancy')) #tres maiores negativos"
   ]
  },
  {
   "cell_type": "markdown",
   "metadata": {},
   "source": [
    "#### 8. Até 2 questões extras que vocês acham interessante analisar"
   ]
  },
  {
   "cell_type": "markdown",
   "metadata": {},
   "source": [
    "8a. Últimos 10 índices de felicidade de cada ano de 2015-2019"
   ]
  },
  {
   "cell_type": "markdown",
   "metadata": {},
   "source": [
    "- Parecida com a primeira questão, mas como o número de países na lista varia, precisamos pegar os 10 ano a ano e depois concatenar"
   ]
  },
  {
   "cell_type": "code",
   "execution_count": 21,
   "metadata": {},
   "outputs": [],
   "source": [
    "ten_lowest_15=db_2015_limpa.nsmallest(10,'Happiness Score')\n",
    "ten_lowest_16=db_2016_limpa.nsmallest(10,'Happiness Score')\n",
    "ten_lowest_17=db_2017_limpa.nsmallest(10,'Happiness Score')\n",
    "ten_lowest_18=db_2018_limpa.nsmallest(10,'Happiness Score')\n",
    "ten_lowest_19=db_2019_limpa.nsmallest(10,'Happiness Score')"
   ]
  },
  {
   "cell_type": "code",
   "execution_count": 22,
   "metadata": {},
   "outputs": [
    {
     "data": {
      "text/html": [
       "<div>\n",
       "<style scoped>\n",
       "    .dataframe tbody tr th:only-of-type {\n",
       "        vertical-align: middle;\n",
       "    }\n",
       "\n",
       "    .dataframe tbody tr th {\n",
       "        vertical-align: top;\n",
       "    }\n",
       "\n",
       "    .dataframe thead th {\n",
       "        text-align: right;\n",
       "    }\n",
       "</style>\n",
       "<table border=\"1\" class=\"dataframe\">\n",
       "  <thead>\n",
       "    <tr style=\"text-align: right;\">\n",
       "      <th></th>\n",
       "      <th>Country</th>\n",
       "      <th>Country</th>\n",
       "      <th>Country</th>\n",
       "      <th>Country</th>\n",
       "      <th>Country</th>\n",
       "    </tr>\n",
       "  </thead>\n",
       "  <tbody>\n",
       "    <tr>\n",
       "      <th>0</th>\n",
       "      <td>Togo</td>\n",
       "      <td>Burundi</td>\n",
       "      <td>Central African Republic</td>\n",
       "      <td>Burundi</td>\n",
       "      <td>South Sudan</td>\n",
       "    </tr>\n",
       "    <tr>\n",
       "      <th>1</th>\n",
       "      <td>Burundi</td>\n",
       "      <td>Syria</td>\n",
       "      <td>Burundi</td>\n",
       "      <td>Central African Republic</td>\n",
       "      <td>Central African Republic</td>\n",
       "    </tr>\n",
       "    <tr>\n",
       "      <th>2</th>\n",
       "      <td>Syria</td>\n",
       "      <td>Togo</td>\n",
       "      <td>Tanzania</td>\n",
       "      <td>South Sudan</td>\n",
       "      <td>Afghanistan</td>\n",
       "    </tr>\n",
       "    <tr>\n",
       "      <th>3</th>\n",
       "      <td>Benin</td>\n",
       "      <td>Afghanistan</td>\n",
       "      <td>Syria</td>\n",
       "      <td>Tanzania</td>\n",
       "      <td>Tanzania</td>\n",
       "    </tr>\n",
       "    <tr>\n",
       "      <th>4</th>\n",
       "      <td>Rwanda</td>\n",
       "      <td>Benin</td>\n",
       "      <td>Rwanda</td>\n",
       "      <td>Yemen</td>\n",
       "      <td>Rwanda</td>\n",
       "    </tr>\n",
       "    <tr>\n",
       "      <th>5</th>\n",
       "      <td>Afghanistan</td>\n",
       "      <td>Rwanda</td>\n",
       "      <td>Togo</td>\n",
       "      <td>Rwanda</td>\n",
       "      <td>Yemen</td>\n",
       "    </tr>\n",
       "    <tr>\n",
       "      <th>6</th>\n",
       "      <td>Burkina Faso</td>\n",
       "      <td>Guinea</td>\n",
       "      <td>Guinea</td>\n",
       "      <td>Syria</td>\n",
       "      <td>Malawi</td>\n",
       "    </tr>\n",
       "    <tr>\n",
       "      <th>7</th>\n",
       "      <td>Ivory Coast</td>\n",
       "      <td>Liberia</td>\n",
       "      <td>Liberia</td>\n",
       "      <td>Liberia</td>\n",
       "      <td>Syria</td>\n",
       "    </tr>\n",
       "    <tr>\n",
       "      <th>8</th>\n",
       "      <td>Guinea</td>\n",
       "      <td>Tanzania</td>\n",
       "      <td>South Sudan</td>\n",
       "      <td>Haiti</td>\n",
       "      <td>Botswana</td>\n",
       "    </tr>\n",
       "    <tr>\n",
       "      <th>9</th>\n",
       "      <td>Chad</td>\n",
       "      <td>Madagascar</td>\n",
       "      <td>Yemen</td>\n",
       "      <td>Malawi</td>\n",
       "      <td>Haiti</td>\n",
       "    </tr>\n",
       "  </tbody>\n",
       "</table>\n",
       "</div>"
      ],
      "text/plain": [
       "        Country      Country                   Country  \\\n",
       "0          Togo      Burundi  Central African Republic   \n",
       "1       Burundi        Syria                   Burundi   \n",
       "2         Syria         Togo                  Tanzania   \n",
       "3         Benin  Afghanistan                     Syria   \n",
       "4        Rwanda        Benin                    Rwanda   \n",
       "5   Afghanistan       Rwanda                      Togo   \n",
       "6  Burkina Faso       Guinea                    Guinea   \n",
       "7   Ivory Coast      Liberia                   Liberia   \n",
       "8        Guinea     Tanzania               South Sudan   \n",
       "9          Chad   Madagascar                     Yemen   \n",
       "\n",
       "                    Country                   Country  \n",
       "0                   Burundi               South Sudan  \n",
       "1  Central African Republic  Central African Republic  \n",
       "2               South Sudan               Afghanistan  \n",
       "3                  Tanzania                  Tanzania  \n",
       "4                     Yemen                    Rwanda  \n",
       "5                    Rwanda                     Yemen  \n",
       "6                     Syria                    Malawi  \n",
       "7                   Liberia                     Syria  \n",
       "8                     Haiti                  Botswana  \n",
       "9                    Malawi                     Haiti  "
      ]
     },
     "execution_count": 22,
     "metadata": {},
     "output_type": "execute_result"
    }
   ],
   "source": [
    "ten_lowest_15_novo=pd.Series(ten_lowest_15['Country']).reset_index(drop=True)\n",
    "ten_lowest_16_novo=pd.Series(ten_lowest_16['Country']).reset_index(drop=True)\n",
    "ten_lowest_17_novo=pd.Series(ten_lowest_17['Country']).reset_index(drop=True)\n",
    "ten_lowest_18_novo=pd.Series(ten_lowest_18['Country']).reset_index(drop=True)\n",
    "ten_lowest_19_novo=pd.Series(ten_lowest_19['Country']).reset_index(drop=True)\n",
    "ten_lowest=pd.concat([ten_lowest_15_novo,ten_lowest_16_novo,ten_lowest_17_novo,ten_lowest_18_novo,ten_lowest_19_novo],axis=1)\n",
    "ten_lowest"
   ]
  },
  {
   "cell_type": "markdown",
   "metadata": {},
   "source": [
    "8b. Considerando a média de todas as variáveis, quais foram as 3 variáveis que mais mudaram no período de 2015-2019. "
   ]
  },
  {
   "cell_type": "markdown",
   "metadata": {},
   "source": [
    "- Aqui, consideramos o desvio padrão normalizado como medida de variação"
   ]
  },
  {
   "cell_type": "code",
   "execution_count": 23,
   "metadata": {},
   "outputs": [
    {
     "data": {
      "text/plain": [
       "'Variacoes de 2015 à 2019'"
      ]
     },
     "metadata": {},
     "output_type": "display_data"
    },
    {
     "data": {
      "text/plain": [
       "Family                           0.152902\n",
       "Generosity                       0.133877\n",
       "Trust (Government Corruption)    0.105707\n",
       "Name: Maiores Variações, dtype: float64"
      ]
     },
     "metadata": {},
     "output_type": "display_data"
    }
   ],
   "source": [
    "db_variacoes_todos_anos = pd.DataFrame({'Medias 2015': db_2015_medias, 'Medias 2016': db_2016_medias, \n",
    "'Medias 2017': db_2017_medias, 'Medias 2018': db_2018_medias, 'Medias 2019': db_2019_medias})\n",
    "\n",
    "db_variacoes_todos_anos['Maiores Variações'] = db_variacoes_todos_anos.apply(lambda x: np.std(x)/np.mean(x), axis=1)\n",
    "display('Variacoes de 2015 à 2019', db_variacoes_todos_anos['Maiores Variações'].sort_values(ascending=False).head(3))"
   ]
  }
 ],
 "metadata": {
  "interpreter": {
   "hash": "e7370f93d1d0cde622a1f8e1c04877d8463912d04d973331ad4851f04de6915a"
  },
  "kernelspec": {
   "display_name": "Python 3.9.9 64-bit",
   "language": "python",
   "name": "python3"
  },
  "language_info": {
   "codemirror_mode": {
    "name": "ipython",
    "version": 3
   },
   "file_extension": ".py",
   "mimetype": "text/x-python",
   "name": "python",
   "nbconvert_exporter": "python",
   "pygments_lexer": "ipython3",
   "version": "3.9.9"
  },
  "orig_nbformat": 4,
  "vscode": {
   "interpreter": {
    "hash": "475e1a16712c75e6f420dc241e46e3a20593f7174cc3b6fcebdfcd1763efcb65"
   }
  }
 },
 "nbformat": 4,
 "nbformat_minor": 2
}
